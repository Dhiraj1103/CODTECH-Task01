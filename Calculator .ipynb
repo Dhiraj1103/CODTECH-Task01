{
 "cells": [
  {
   "cell_type": "code",
   "execution_count": null,
   "id": "0606a182",
   "metadata": {},
   "outputs": [],
   "source": [
    "import tkinter as tk\n",
    "from tkinter import messagebox\n",
    "\n",
    "# Function to evaluate the expression\n",
    "def evaluate_expression():\n",
    "    try:\n",
    "        result = eval(entry.get())\n",
    "        entry.delete(0, tk.END)\n",
    "        entry.insert(tk.END, str(result))\n",
    "    except Exception as e:\n",
    "        messagebox.showerror(\"Error\", \"Invalid Expression\")\n",
    "\n",
    "# Function to append a character to the entry field\n",
    "def append_character(char):\n",
    "    entry.insert(tk.END, char)\n",
    "\n",
    "# Function to clear the entry field\n",
    "def clear_entry():\n",
    "    entry.delete(0, tk.END)\n",
    "\n",
    "# Create the main window\n",
    "root = tk.Tk()\n",
    "root.title(\"Basic Calculator\")\n",
    "\n",
    "# Create the entry field\n",
    "entry = tk.Entry(root, width=25, font=(\"Arial\", 18))\n",
    "entry.grid(row=0, column=0, columnspan=4)\n",
    "\n",
    "# Define the buttons\n",
    "buttons = [\n",
    "    ('7', 1, 0), ('8', 1, 1), ('9', 1, 2), ('/', 1, 3),\n",
    "    ('4', 2, 0), ('5', 2, 1), ('6', 2, 2), ('*', 2, 3),\n",
    "    ('1', 3, 0), ('2', 3, 1), ('3', 3, 2), ('-', 3, 3),\n",
    "    ('0', 4, 0), ('.', 4, 1), ('+', 4, 2), ('=', 4, 3)\n",
    "]\n",
    "\n",
    "# Add buttons to the grid\n",
    "for (text, row, column) in buttons:\n",
    "    if text == '=':\n",
    "        button = tk.Button(root, text=text, width=5, height=2, font=(\"Arial\", 18), command=evaluate_expression)\n",
    "    else:\n",
    "        button = tk.Button(root, text=text, width=5, height=2, font=(\"Arial\", 18), command=lambda char=text: append_character(char))\n",
    "    button.grid(row=row, column=column)\n",
    "\n",
    "# Add a clear button\n",
    "clear_button = tk.Button(root, text='C', width=5, height=2, font=(\"Arial\", 18), command=clear_entry)\n",
    "clear_button.grid(row=4, column=2)\n",
    "\n",
    "# Run the main loop\n",
    "root.mainloop()"
   ]
  },
  {
   "cell_type": "markdown",
   "id": "c4307fe8",
   "metadata": {},
   "source": [
    "# "
   ]
  },
  {
   "cell_type": "code",
   "execution_count": null,
   "id": "5f94188e",
   "metadata": {},
   "outputs": [],
   "source": []
  }
 ],
 "metadata": {
  "kernelspec": {
   "display_name": "Python 3 (ipykernel)",
   "language": "python",
   "name": "python3"
  },
  "language_info": {
   "codemirror_mode": {
    "name": "ipython",
    "version": 3
   },
   "file_extension": ".py",
   "mimetype": "text/x-python",
   "name": "python",
   "nbconvert_exporter": "python",
   "pygments_lexer": "ipython3",
   "version": "3.9.12"
  }
 },
 "nbformat": 4,
 "nbformat_minor": 5
}
